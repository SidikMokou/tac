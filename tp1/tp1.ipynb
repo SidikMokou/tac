{
 "cells": [
  {
   "cell_type": "markdown",
   "id": "1a16d846-2e17-4cd8-9c9a-c185ccfeb64a",
   "metadata": {},
   "source": [
    "## requete sparql pour rechercher les personnes nées à bruxelles"
   ]
  },
  {
   "cell_type": "code",
   "execution_count": 1,
   "id": "cb9f7c8b-4828-4f50-b78c-74e8223b623a",
   "metadata": {},
   "outputs": [],
   "source": [
    "from SPARQLWrapper import SPARQLWrapper, JSON"
   ]
  },
  {
   "cell_type": "code",
   "execution_count": 3,
   "id": "182c1fd9-6649-44c2-9d03-ddb2f4741040",
   "metadata": {},
   "outputs": [
    {
     "name": "stdout",
     "output_type": "stream",
     "text": [
      "\n",
      "1951 personnes qui sont nées à  Bruxelles \n",
      "\n",
      "[{'item': {'type': 'uri', 'value': 'http://www.wikidata.org/entity/Q170267'}, 'itemLabel': {'type': 'literal', 'value': 'Q170267'}}, {'item': {'type': 'uri', 'value': 'http://www.wikidata.org/entity/Q203306'}, 'itemLabel': {'type': 'literal', 'value': 'Q203306'}}, {'item': {'type': 'uri', 'value': 'http://www.wikidata.org/entity/Q265255'}, 'itemLabel': {'type': 'literal', 'value': 'Q265255'}}, {'item': {'type': 'uri', 'value': 'http://www.wikidata.org/entity/Q314193'}, 'itemLabel': {'type': 'literal', 'value': 'Q314193'}}, {'item': {'type': 'uri', 'value': 'http://www.wikidata.org/entity/Q538878'}, 'itemLabel': {'type': 'literal', 'value': 'Q538878'}}, {'item': {'type': 'uri', 'value': 'http://www.wikidata.org/entity/Q698681'}, 'itemLabel': {'type': 'literal', 'value': 'Q698681'}}, {'item': {'type': 'uri', 'value': 'http://www.wikidata.org/entity/Q768316'}, 'itemLabel': {'type': 'literal', 'value': 'Q768316'}}, {'item': {'type': 'uri', 'value': 'http://www.wikidata.org/entity/Q971380'}, 'itemLabel': {'type': 'literal', 'value': 'Q971380'}}, {'item': {'type': 'uri', 'value': 'http://www.wikidata.org/entity/Q1043272'}, 'itemLabel': {'type': 'literal', 'value': 'Q1043272'}}, {'item': {'type': 'uri', 'value': 'http://www.wikidata.org/entity/Q1451193'}, 'itemLabel': {'type': 'literal', 'value': 'Q1451193'}}]\n"
     ]
    }
   ],
   "source": [
    "# Retrieve results from SPARQL\n",
    "endpoint = \"https://query.wikidata.org/bigdata/namespace/wdq/sparql\"\n",
    "sparql = SPARQLWrapper(endpoint)\n",
    "\n",
    "# P19 = place of birth\n",
    "# P279 = subclass of\n",
    "# P279* means multiple iterations\n",
    "# Q239 = City of Brussels\n",
    "statement = \"\"\"\n",
    "SELECT DISTINCT ?item ?itemLabel WHERE {\n",
    "  SERVICE wikibase:label { bd:serviceParam wikibase:language \"[AUTO_LANGUAGE]\". }\n",
    "  {\n",
    "    SELECT DISTINCT ?item WHERE {\n",
    "      ?item p:P19 ?statement.\n",
    "      ?statement (ps:P19/(wdt:P279*)) wd:Q239.\n",
    "    }\n",
    "  }\n",
    "}\n",
    "\"\"\"\n",
    "\n",
    "sparql.setQuery(statement)\n",
    "sparql.setReturnFormat(JSON)\n",
    "results = sparql.query().convert()\n",
    "\n",
    "rows = results['results']['bindings']\n",
    "print(f\"\\n{len(rows)} personnes qui sont nées à  Bruxelles \\n\")\n",
    "print(rows[:10])\n"
   ]
  }
 ],
 "metadata": {
  "kernelspec": {
   "display_name": "Python 3 (ipykernel)",
   "language": "python",
   "name": "python3"
  },
  "language_info": {
   "codemirror_mode": {
    "name": "ipython",
    "version": 3
   },
   "file_extension": ".py",
   "mimetype": "text/x-python",
   "name": "python",
   "nbconvert_exporter": "python",
   "pygments_lexer": "ipython3",
   "version": "3.9.7"
  }
 },
 "nbformat": 4,
 "nbformat_minor": 5
}
