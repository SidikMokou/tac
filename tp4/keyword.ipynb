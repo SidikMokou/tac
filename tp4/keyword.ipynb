{
 "cells": [
  {
   "cell_type": "markdown",
   "metadata": {},
   "source": [
    "# Extraction de Keywords"
   ]
  },
  {
   "cell_type": "markdown",
   "metadata": {},
   "source": [
    "## Imports"
   ]
  },
  {
   "cell_type": "code",
   "execution_count": 1,
   "metadata": {},
   "outputs": [],
   "source": [
    "import os\n",
    "import yake"
   ]
  },
  {
   "cell_type": "markdown",
   "metadata": {},
   "source": [
    "## Extraire les mots clés d'un document avec Yake"
   ]
  },
  {
   "cell_type": "markdown",
   "metadata": {},
   "source": [
    "https://github.com/LIAAD/yake"
   ]
  },
  {
   "cell_type": "code",
   "execution_count": 2,
   "metadata": {
    "tags": []
   },
   "outputs": [
    {
     "data": {
      "text/plain": [
       "set()"
      ]
     },
     "execution_count": 2,
     "metadata": {},
     "output_type": "execute_result"
    }
   ],
   "source": [
    "# Création d'une liste de mots à ignorer\n",
    "ignored = set([])\n",
    "ignored"
   ]
  },
  {
   "cell_type": "code",
   "execution_count": 3,
   "metadata": {},
   "outputs": [
    {
     "data": {
      "text/plain": [
       "<yake.yake.KeywordExtractor at 0x7f7f1412aa30>"
      ]
     },
     "execution_count": 3,
     "metadata": {},
     "output_type": "execute_result"
    }
   ],
   "source": [
    "# Instantier l'extracteur de mots clés\n",
    "kw_extractor = yake.KeywordExtractor(lan=\"fr\", top=50)\n",
    "kw_extractor"
   ]
  },
  {
   "cell_type": "code",
   "execution_count": 4,
   "metadata": {},
   "outputs": [],
   "source": [
    "# Lister les Fichiers\n",
    "data_path = \"../data/txt/\"\n",
    "files = os.listdir(data_path)"
   ]
  },
  {
   "cell_type": "code",
   "execution_count": 5,
   "metadata": {},
   "outputs": [
    {
     "data": {
      "text/plain": [
       "2498"
      ]
     },
     "execution_count": 5,
     "metadata": {},
     "output_type": "execute_result"
    }
   ],
   "source": [
    "# Imprimer le nombre de fichiers identifiés\n",
    "len(files)"
   ]
  },
  {
   "cell_type": "code",
   "execution_count": 6,
   "metadata": {},
   "outputs": [],
   "source": [
    "# Les dix premiers fichiers\n",
    "#files[:20]"
   ]
  },
  {
   "cell_type": "code",
   "execution_count": 7,
   "metadata": {},
   "outputs": [
    {
     "data": {
      "text/plain": [
       "1"
      ]
     },
     "execution_count": 7,
     "metadata": {},
     "output_type": "execute_result"
    }
   ],
   "source": [
    "# Enlever les fichiers qui ne commencent pas par Bxl_\n",
    "bxl_files = [f for f in files if f.startswith('Lkn_1874')]\n",
    "len(bxl_files)"
   ]
  },
  {
   "cell_type": "code",
   "execution_count": 8,
   "metadata": {},
   "outputs": [
    {
     "data": {
      "text/plain": [
       "'Lkn_1874_Tome_RptAn_Part_8.txt'"
      ]
     },
     "execution_count": 8,
     "metadata": {},
     "output_type": "execute_result"
    }
   ],
   "source": [
    "# Choisir un fichier\n",
    "this_file = bxl_files[0]\n",
    "this_file"
   ]
  },
  {
   "cell_type": "code",
   "execution_count": 9,
   "metadata": {},
   "outputs": [
    {
     "data": {
      "text/plain": [
       "\"— 406 —\\ndevaient être déposées, et nous leur avons demandé si une heure\\nleur suffisait pour modifier leur soumission, à quoi ils ont tous\\nrépondu qu'ils avaient leurs apaisements. Nous leur offrions , dans\\nle cas contraire, de remettre l'adjudication au lendemain.\\nInterpellés par moi sur le poinldesavoir s'ils connaissaient bien leurs\\nobligations, les entrepreneurs m'ont tous répondu affirmativement.\\nJe ne pense pas, Messieurs, qu'il soit possible de procéder plus\\ncomplètement que cela.\\nM . VAN \""
      ]
     },
     "execution_count": 9,
     "metadata": {},
     "output_type": "execute_result"
    }
   ],
   "source": [
    "# Récupérer le texte du fichier\n",
    "text = open(os.path.join(data_path, this_file), 'r').read()\n",
    "text[:500]"
   ]
  },
  {
   "cell_type": "code",
   "execution_count": 10,
   "metadata": {},
   "outputs": [],
   "source": [
    "# Extraire les mots clés de ce texte\n",
    "keywords = kw_extractor.extract_keywords(text)"
   ]
  },
  {
   "cell_type": "code",
   "execution_count": 11,
   "metadata": {},
   "outputs": [
    {
     "data": {
      "text/plain": [
       "[('VAN DEN KERCKHOVE', 7.305409624019258e-05),\n",
       " ('DEN KERCKHOVE', 0.00041966024314956947),\n",
       " ('Conseil communal', 0.00046196876808201687),\n",
       " ('Collège', 0.0005012226999205703),\n",
       " ('VAN DEN', 0.000568060160509791),\n",
       " ('Conseil', 0.0006637497163574772),\n",
       " (\"l'Echevin Bockstael\", 0.0007776167420079318),\n",
       " ('Compte', 0.0008428041817254665),\n",
       " ('BOCKSTAEL', 0.0009323441334267501),\n",
       " ('travaux', 0.0012738119081035664),\n",
       " ('KERCKHOVE', 0.0013645262609177364),\n",
       " ('travaux extraordinaires', 0.001441952295817101),\n",
       " ('Messieurs', 0.00145263345145027),\n",
       " ('dépenses', 0.0016379506055745469),\n",
       " ('rue', 0.0016410308232369056),\n",
       " ('Sections réunies', 0.0016867058526257677),\n",
       " ('Compte communal', 0.0019031071819376611),\n",
       " ('budget', 0.001950328737198649),\n",
       " ('Laeken', 0.0019537870558464614),\n",
       " ('Commune', 0.002092534200547385),\n",
       " ('communal', 0.0023536267894473926),\n",
       " ('VAN', 0.002385872911482743),\n",
       " ('Secrétaire communal', 0.0025447226873266337),\n",
       " (\"qu'il\", 0.0025807477586662036),\n",
       " ('Sections', 0.0027251596759597873),\n",
       " ('rapport', 0.0029447863449628075),\n",
       " ('somme', 0.0031823080272149287),\n",
       " ('recettes', 0.0033394558084713574),\n",
       " ('BOURGMESTRE', 0.0033421259955659683),\n",
       " ('DEN', 0.0033642660691335295),\n",
       " ('Section', 0.003698430988802569),\n",
       " ('Jules Van Volxem', 0.0037752716217306407),\n",
       " ('Francs', 0.003856823098889155),\n",
       " (\"l'Administration communale\", 0.003926801216014781),\n",
       " ('faire', 0.004276193584497835),\n",
       " ('Députation permanente', 0.004969580379148867),\n",
       " ('extraordinaires', 0.005311580290878489),\n",
       " (\"l'Administration\", 0.005397238967717623),\n",
       " ('dépenses extraordinaires', 0.005537630498064712),\n",
       " ('Van den Eynde', 0.005613102669879972),\n",
       " ('rues', 0.005684999637642137),\n",
       " ('taxe', 0.005955014907115107),\n",
       " ('dépense', 0.006027658228514332),\n",
       " ('communale', 0.006030798294881611),\n",
       " ('Rapport du Collège', 0.006039999690207926),\n",
       " (\"Collège demande qu'il\", 0.006240591147225343),\n",
       " ('lieu', 0.0065839285405976024),\n",
       " (\"taxes d'égout\", 0.006695224915362548),\n",
       " ('Objet', 0.006833959280712541),\n",
       " (\"c'est\", 0.006886883451710347)]"
      ]
     },
     "execution_count": 11,
     "metadata": {},
     "output_type": "execute_result"
    }
   ],
   "source": [
    "keywords"
   ]
  },
  {
   "cell_type": "code",
   "execution_count": 12,
   "metadata": {},
   "outputs": [
    {
     "data": {
      "text/plain": [
       "['DEN KERCKHOVE',\n",
       " 'Conseil communal',\n",
       " 'VAN DEN',\n",
       " \"l'Echevin Bockstael\",\n",
       " 'travaux extraordinaires',\n",
       " 'Sections réunies',\n",
       " 'Compte communal',\n",
       " 'Secrétaire communal',\n",
       " \"l'Administration communale\",\n",
       " 'Députation permanente',\n",
       " 'dépenses extraordinaires',\n",
       " \"taxes d'égout\"]"
      ]
     },
     "execution_count": 12,
     "metadata": {},
     "output_type": "execute_result"
    }
   ],
   "source": [
    "# Ne garder que les bigrammes\n",
    "kept = []\n",
    "for kw, score in keywords:\n",
    "    words = kw.split()\n",
    "    if len(words) == 2 and kw.lower() not in ignored:\n",
    "        kept.append(kw)\n",
    "kept"
   ]
  },
  {
   "cell_type": "markdown",
   "metadata": {},
   "source": [
    "## Faire la même opération sur tous les documents"
   ]
  },
  {
   "cell_type": "code",
   "execution_count": 13,
   "metadata": {},
   "outputs": [
    {
     "name": "stdout",
     "output_type": "stream",
     "text": [
      "Lkn_1874_Tome_RptAn_Part_8.txt mentions these keywords: DEN KERCKHOVE, Conseil communal, VAN DEN, l'Echevin Bockstael, travaux extraordinaires, Sections réunies, Compte communal, Secrétaire communal, l'Administration communale, Députation permanente, dépenses extraordinaires, taxes d'égout...\n"
     ]
    }
   ],
   "source": [
    "for f in sorted(bxl_files)[:10]:\n",
    "    text = open(os.path.join(data_path, f), 'r').read()\n",
    "    keywords = kw_extractor.extract_keywords(text)\n",
    "    kept = []\n",
    "    for kw, score in keywords:\n",
    "        words = kw.split()\n",
    "        if len(words) == 2 and kw.lower() not in ignored:\n",
    "            kept.append(kw)\n",
    "    print(f\"{f} mentions these keywords: {', '.join(kept)}...\")"
   ]
  },
  {
   "cell_type": "code",
   "execution_count": null,
   "metadata": {},
   "outputs": [],
   "source": []
  },
  {
   "cell_type": "code",
   "execution_count": null,
   "metadata": {},
   "outputs": [],
   "source": []
  },
  {
   "cell_type": "code",
   "execution_count": null,
   "metadata": {},
   "outputs": [],
   "source": []
  },
  {
   "cell_type": "code",
   "execution_count": null,
   "metadata": {},
   "outputs": [],
   "source": []
  }
 ],
 "metadata": {
  "kernelspec": {
   "display_name": "Python 3 (ipykernel)",
   "language": "python",
   "name": "python3"
  },
  "language_info": {
   "codemirror_mode": {
    "name": "ipython",
    "version": 3
   },
   "file_extension": ".py",
   "mimetype": "text/x-python",
   "name": "python",
   "nbconvert_exporter": "python",
   "pygments_lexer": "ipython3",
   "version": "3.9.7"
  }
 },
 "nbformat": 4,
 "nbformat_minor": 4
}
