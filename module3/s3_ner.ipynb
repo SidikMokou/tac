{
 "cells": [
  {
   "cell_type": "markdown",
   "metadata": {},
   "source": [
    "# Reconnaissance d'entités nommées avec SpaCy"
   ]
  },
  {
   "cell_type": "markdown",
   "metadata": {},
   "source": [
    "La documentation est accessible ici: https://spacy.io/api"
   ]
  },
  {
   "cell_type": "markdown",
   "metadata": {},
   "source": [
    "## Imports"
   ]
  },
  {
   "cell_type": "code",
   "execution_count": 3,
   "metadata": {},
   "outputs": [],
   "source": [
    "from collections import defaultdict\n",
    "import sys\n",
    "import spacy\n",
    "from spacy.lang.fr.examples import sentences"
   ]
  },
  {
   "cell_type": "code",
   "execution_count": 4,
   "metadata": {},
   "outputs": [],
   "source": [
    "nlp = spacy.load('fr_core_news_md')"
   ]
  },
  {
   "cell_type": "markdown",
   "metadata": {},
   "source": [
    "## Exemple sur un corpus de test fourni par SpaCy"
   ]
  },
  {
   "cell_type": "code",
   "execution_count": 5,
   "metadata": {},
   "outputs": [
    {
     "data": {
      "text/plain": [
       "['Apple cherche à acheter une start-up anglaise pour 1 milliard de dollars',\n",
       " \"Les voitures autonomes déplacent la responsabilité de l'assurance vers les constructeurs\",\n",
       " \"San Francisco envisage d'interdire les robots coursiers sur les trottoirs\",\n",
       " 'Londres est une grande ville du Royaume-Uni',\n",
       " 'L’Italie choisit ArcelorMittal pour reprendre la plus grande aciérie d’Europe',\n",
       " \"Apple lance HomePod parce qu'il se sent menacé par l'Echo d'Amazon\",\n",
       " \"La France ne devrait pas manquer d'électricité cet été, même en cas de canicule\",\n",
       " 'Nouvelles attaques de Trump contre le maire de Londres',\n",
       " 'Où es-tu ?',\n",
       " 'Qui est le président de la France ?',\n",
       " 'Où est la capitale des États-Unis ?',\n",
       " 'Quand est né Barack Obama ?']"
      ]
     },
     "execution_count": 5,
     "metadata": {},
     "output_type": "execute_result"
    }
   ],
   "source": [
    "# Imprimer le corpus de Spacy\n",
    "sentences"
   ]
  },
  {
   "cell_type": "code",
   "execution_count": 6,
   "metadata": {},
   "outputs": [
    {
     "data": {
      "text/plain": [
       "'Apple cherche à acheter une start-up anglaise pour 1 milliard de dollars'"
      ]
     },
     "execution_count": 6,
     "metadata": {},
     "output_type": "execute_result"
    }
   ],
   "source": [
    "# Isoler la première phrase\n",
    "sent = sentences[0]\n",
    "sent"
   ]
  },
  {
   "cell_type": "code",
   "execution_count": 7,
   "metadata": {},
   "outputs": [],
   "source": [
    "# Traiter la phrase avec Spacy\n",
    "doc = nlp(sent)"
   ]
  },
  {
   "cell_type": "code",
   "execution_count": 8,
   "metadata": {},
   "outputs": [
    {
     "data": {
      "text/plain": [
       "spacy.tokens.doc.Doc"
      ]
     },
     "execution_count": 8,
     "metadata": {},
     "output_type": "execute_result"
    }
   ],
   "source": [
    "type(doc)"
   ]
  },
  {
   "cell_type": "code",
   "execution_count": 9,
   "metadata": {},
   "outputs": [
    {
     "data": {
      "text/plain": [
       "'Apple cherche à acheter une start-up anglaise pour 1 milliard de dollars'"
      ]
     },
     "execution_count": 9,
     "metadata": {},
     "output_type": "execute_result"
    }
   ],
   "source": [
    "doc.text"
   ]
  },
  {
   "cell_type": "code",
   "execution_count": 10,
   "metadata": {},
   "outputs": [
    {
     "data": {
      "text/plain": [
       "{'text': 'Apple cherche à acheter une start-up anglaise pour 1 milliard de dollars',\n",
       " 'ents': [{'start': 0, 'end': 5, 'label': 'ORG'}],\n",
       " 'sents': [{'start': 0, 'end': 72}],\n",
       " 'tokens': [{'id': 0,\n",
       "   'start': 0,\n",
       "   'end': 5,\n",
       "   'tag': 'PROPN',\n",
       "   'pos': 'PROPN',\n",
       "   'morph': '',\n",
       "   'lemma': 'Apple',\n",
       "   'dep': 'nsubj',\n",
       "   'head': 1},\n",
       "  {'id': 1,\n",
       "   'start': 6,\n",
       "   'end': 13,\n",
       "   'tag': 'VERB',\n",
       "   'pos': 'VERB',\n",
       "   'morph': 'Mood=Ind|Number=Sing|Person=3|Tense=Pres|VerbForm=Fin',\n",
       "   'lemma': 'cherche',\n",
       "   'dep': 'ROOT',\n",
       "   'head': 1},\n",
       "  {'id': 2,\n",
       "   'start': 14,\n",
       "   'end': 15,\n",
       "   'tag': 'ADP',\n",
       "   'pos': 'ADP',\n",
       "   'morph': '',\n",
       "   'lemma': 'à',\n",
       "   'dep': 'mark',\n",
       "   'head': 3},\n",
       "  {'id': 3,\n",
       "   'start': 16,\n",
       "   'end': 23,\n",
       "   'tag': 'VERB',\n",
       "   'pos': 'VERB',\n",
       "   'morph': 'VerbForm=Inf',\n",
       "   'lemma': 'acheter',\n",
       "   'dep': 'xcomp',\n",
       "   'head': 1},\n",
       "  {'id': 4,\n",
       "   'start': 24,\n",
       "   'end': 27,\n",
       "   'tag': 'DET',\n",
       "   'pos': 'DET',\n",
       "   'morph': 'Definite=Ind|Gender=Fem|Number=Sing|PronType=Art',\n",
       "   'lemma': 'un',\n",
       "   'dep': 'det',\n",
       "   'head': 5},\n",
       "  {'id': 5,\n",
       "   'start': 28,\n",
       "   'end': 33,\n",
       "   'tag': 'NOUN',\n",
       "   'pos': 'NOUN',\n",
       "   'morph': 'Gender=Fem|Number=Sing',\n",
       "   'lemma': 'start',\n",
       "   'dep': 'obj',\n",
       "   'head': 3},\n",
       "  {'id': 6,\n",
       "   'start': 33,\n",
       "   'end': 34,\n",
       "   'tag': 'X',\n",
       "   'pos': 'X',\n",
       "   'morph': '',\n",
       "   'lemma': '-',\n",
       "   'dep': 'obj',\n",
       "   'head': 3},\n",
       "  {'id': 7,\n",
       "   'start': 34,\n",
       "   'end': 36,\n",
       "   'tag': 'X',\n",
       "   'pos': 'X',\n",
       "   'morph': '',\n",
       "   'lemma': 'up',\n",
       "   'dep': 'obj',\n",
       "   'head': 3},\n",
       "  {'id': 8,\n",
       "   'start': 37,\n",
       "   'end': 45,\n",
       "   'tag': 'ADJ',\n",
       "   'pos': 'ADJ',\n",
       "   'morph': 'Gender=Fem|Number=Sing',\n",
       "   'lemma': 'anglais',\n",
       "   'dep': 'amod',\n",
       "   'head': 7},\n",
       "  {'id': 9,\n",
       "   'start': 46,\n",
       "   'end': 50,\n",
       "   'tag': 'ADP',\n",
       "   'pos': 'ADP',\n",
       "   'morph': '',\n",
       "   'lemma': 'pour',\n",
       "   'dep': 'case',\n",
       "   'head': 11},\n",
       "  {'id': 10,\n",
       "   'start': 51,\n",
       "   'end': 52,\n",
       "   'tag': 'NUM',\n",
       "   'pos': 'NUM',\n",
       "   'morph': 'NumType=Card',\n",
       "   'lemma': '1',\n",
       "   'dep': 'nummod',\n",
       "   'head': 11},\n",
       "  {'id': 11,\n",
       "   'start': 53,\n",
       "   'end': 61,\n",
       "   'tag': 'NOUN',\n",
       "   'pos': 'NOUN',\n",
       "   'morph': 'Gender=Masc|NumType=Card|Number=Sing',\n",
       "   'lemma': 'milliard',\n",
       "   'dep': 'obl:arg',\n",
       "   'head': 3},\n",
       "  {'id': 12,\n",
       "   'start': 62,\n",
       "   'end': 64,\n",
       "   'tag': 'ADP',\n",
       "   'pos': 'ADP',\n",
       "   'morph': '',\n",
       "   'lemma': 'de',\n",
       "   'dep': 'case',\n",
       "   'head': 13},\n",
       "  {'id': 13,\n",
       "   'start': 65,\n",
       "   'end': 72,\n",
       "   'tag': 'NOUN',\n",
       "   'pos': 'NOUN',\n",
       "   'morph': 'Gender=Masc|Number=Plur',\n",
       "   'lemma': 'dollar',\n",
       "   'dep': 'nmod',\n",
       "   'head': 11}]}"
      ]
     },
     "execution_count": 10,
     "metadata": {},
     "output_type": "execute_result"
    }
   ],
   "source": [
    "doc.to_json()"
   ]
  },
  {
   "cell_type": "code",
   "execution_count": 11,
   "metadata": {},
   "outputs": [
    {
     "name": "stdout",
     "output_type": "stream",
     "text": [
      "'Apple cherche à acheter une start-up anglaise pour 1 milliard de dollars' contient les entités suivantes : Apple (ORG)\n",
      "'Les voitures autonomes déplacent la responsabilité de l'assurance vers les constructeurs' ne contient aucune entité\n",
      "'San Francisco envisage d'interdire les robots coursiers sur les trottoirs' contient les entités suivantes : San Francisco (LOC)\n",
      "'Londres est une grande ville du Royaume-Uni' contient les entités suivantes : Londres (LOC), Royaume-Uni (LOC)\n",
      "'L’Italie choisit ArcelorMittal pour reprendre la plus grande aciérie d’Europe' contient les entités suivantes : Italie (LOC), ArcelorMittal (ORG), Europe (LOC)\n",
      "'Apple lance HomePod parce qu'il se sent menacé par l'Echo d'Amazon' contient les entités suivantes : Apple (ORG), HomePod (ORG), Echo (ORG), Amazon (ORG)\n",
      "'La France ne devrait pas manquer d'électricité cet été, même en cas de canicule' contient les entités suivantes : La France (LOC)\n",
      "'Nouvelles attaques de Trump contre le maire de Londres' contient les entités suivantes : Trump (PER), Londres (LOC)\n",
      "'Où es-tu ?' ne contient aucune entité\n",
      "'Qui est le président de la France ?' contient les entités suivantes : la France (LOC)\n",
      "'Où est la capitale des États-Unis ?' contient les entités suivantes : États-Unis (LOC)\n",
      "'Quand est né Barack Obama ?' contient les entités suivantes : Barack Obama (PER)\n"
     ]
    }
   ],
   "source": [
    "# Appliquer le test sur toutes les phrases\n",
    "for sent in sentences:\n",
    "    doc = nlp(sent)\n",
    "    entities = []\n",
    "    for ent in doc.ents:\n",
    "        entities.append(f\"{ent.text} ({ent.label_})\")\n",
    "    if entities:\n",
    "        print(f\"'{doc.text}' contient les entités suivantes : {', '.join(entities)}\")\n",
    "    else:\n",
    "        print(f\"'{doc.text}' ne contient aucune entité\")"
   ]
  },
  {
   "cell_type": "markdown",
   "metadata": {},
   "source": [
    "## Appliquer la reconnaissance d'entités nommées sur notre corpus"
   ]
  },
  {
   "cell_type": "code",
   "execution_count": 12,
   "metadata": {},
   "outputs": [],
   "source": [
    "# Charger le texte\n",
    "n=900000\n",
    "text = open(\"../data/tmp/1847_clean.txt\", encoding='utf-8').read()[:n]"
   ]
  },
  {
   "cell_type": "code",
   "execution_count": 13,
   "metadata": {},
   "outputs": [
    {
     "name": "stdout",
     "output_type": "stream",
     "text": [
      "CPU times: user 2min 2s, sys: 32.6 s, total: 2min 34s\n",
      "Wall time: 2min 35s\n"
     ]
    }
   ],
   "source": [
    "%%time\n",
    "# Traiter le texte\n",
    "\n",
    "doc = nlp(text)"
   ]
  },
  {
   "cell_type": "code",
   "execution_count": 14,
   "metadata": {},
   "outputs": [],
   "source": [
    "# Compter les entités\n",
    "people = defaultdict(int)\n",
    "organisation = defaultdict(int)\n",
    "location = defaultdict(int)\n",
    "for ent in doc.ents:\n",
    "    if ent.label_ == \"PER\" and len(ent.text) > 3:\n",
    "        people[ent.text] += 1\n",
    "    if ent.label_ == \"ORG\" and len(ent.text) > 3:\n",
    "        organisation[ent.text] += 1\n",
    "    if ent.label_ == \"LOC\" and len(ent.text) > 3:\n",
    "        location[ent.text] += 1"
   ]
  },
  {
   "cell_type": "code",
   "execution_count": 15,
   "metadata": {},
   "outputs": [
    {
     "name": "stdout",
     "output_type": "stream",
     "text": [
      "Personnes\n",
      "vanderlinden apparait 37 fois dans le corpus\n",
      "anspach apparait 27 fois dans le corpus\n",
      "doucet apparait 22 fois dans le corpus\n",
      "messieurs apparait 22 fois dans le corpus\n",
      "fontainas apparait 19 fois dans le corpus\n",
      "quartier léopold apparait 19 fois dans le corpus\n",
      "doncker apparait 14 fois dans le corpus\n",
      "gendebien apparait 12 fois dans le corpus\n",
      "reclus apparait 10 fois dans le corpus\n",
      "raucourt apparait 7 fois dans le corpus\n",
      "meenen apparait 6 fois dans le corpus\n",
      "boëtz hamer apparait 6 fois dans le corpus\n",
      "léopold apparait 6 fois dans le corpus\n",
      "remblai apparait 5 fois dans le corpus\n",
      "vanderhaegen apparait 5 fois dans le corpus\n",
      "ranwet apparait 4 fois dans le corpus\n",
      "argumens apparait 4 fois dans le corpus\n",
      "busson apparait 4 fois dans le corpus\n",
      "blaes apparait 3 fois dans le corpus\n",
      "bartels apparait 3 fois dans le corpus\n",
      "verhulst apparait 3 fois dans le corpus\n",
      "galeries loges apparait 3 fois dans le corpus\n",
      "lenglentier apparait 3 fois dans le corpus\n",
      "honorable brouckere apparait 3 fois dans le corpus\n",
      "hemptinne doncker apparait 3 fois dans le corpus\n",
      "schaerbeék apparait 3 fois dans le corpus\n",
      "nothomb apparait 3 fois dans le corpus\n",
      "honorable doncker apparait 3 fois dans le corpus\n",
      "aviserez apparait 3 fois dans le corpus\n",
      "vaerman apparait 3 fois dans le corpus\n",
      "présidencedem apparait 2 fois dans le corpus\n",
      "blaes brouckere apparait 2 fois dans le corpus\n",
      "brouckere apparait 2 fois dans le corpus\n",
      "leprojet apparait 2 fois dans le corpus\n",
      "schuermans verelst apparait 2 fois dans le corpus\n",
      "quartier léopold conseil apparait 2 fois dans le corpus\n",
      "honorable ranwet apparait 2 fois dans le corpus\n",
      "ranwet blaes trumper apparait 2 fois dans le corpus\n",
      "vadder apparait 2 fois dans le corpus\n",
      "veuillez apparait 2 fois dans le corpus\n",
      "caudenberg namur apparait 2 fois dans le corpus\n",
      "belliard apparait 2 fois dans le corpus\n",
      "sainte gudule apparait 2 fois dans le corpus\n",
      "grand piace apparait 2 fois dans le corpus\n",
      "verhulst doucet orts fontainas apparait 2 fois dans le corpus\n",
      "jacques caudenberg apparait 2 fois dans le corpus\n",
      "cluysenaar apparait 2 fois dans le corpus\n",
      "bortier apparait 2 fois dans le corpus\n",
      "doucet section apparait 2 fois dans le corpus\n",
      "rommel apparait 2 fois dans le corpus\n",
      "Organisations\n",
      "conseil pron admettez abonnement belgique communale apparait 1 fois dans le corpus\n",
      "conseil anspach apparait 1 fois dans le corpus\n",
      "bartels apparait 1 fois dans le corpus\n",
      "bartels opinion apparait 1 fois dans le corpus\n",
      "géne apparait 1 fois dans le corpus\n",
      "aulre moyen pensé apparait 1 fois dans le corpus\n",
      "blaes paris voitures maître numérotées brouckere apparait 1 fois dans le corpus\n",
      "avenir galeries grandthéâtre apparait 1 fois dans le corpus\n",
      "quesi ion apparait 1 fois dans le corpus\n",
      "rue royale neuve apparait 1 fois dans le corpus\n",
      "orts ironie apparait 1 fois dans le corpus\n",
      "dos galeries apparait 1 fois dans le corpus\n",
      "consacreriez principe apparait 1 fois dans le corpus\n",
      "académie royale beaux arts bruxelles apparait 1 fois dans le corpus\n",
      "france angleterre apparait 1 fois dans le corpus\n",
      "bortier apparait 1 fois dans le corpus\n",
      "hotel commission bureau statistique analogue commissions provinciales commission centrale statistique employé chacune divisions apparait 1 fois dans le corpus\n",
      "blaes éditeur apparait 1 fois dans le corpus\n",
      "blaes disant principe apparait 1 fois dans le corpus\n",
      "admettiez mobilier apparait 1 fois dans le corpus\n",
      "bruxelles admettriez apparait 1 fois dans le corpus\n",
      "Lieux\n",
      "bruxelles apparait 316 fois dans le corpus\n",
      "belgique apparait 44 fois dans le corpus\n",
      "paris apparait 34 fois dans le corpus\n",
      "bàtimens apparait 8 fois dans le corpus\n",
      "namur apparait 8 fois dans le corpus\n",
      "etat apparait 7 fois dans le corpus\n",
      "rue duquesnoy apparait 7 fois dans le corpus\n",
      "france apparait 5 fois dans le corpus\n",
      "pachéco apparait 5 fois dans le corpus\n",
      "anvers apparait 4 fois dans le corpus\n",
      "rue anderlecht apparait 4 fois dans le corpus\n",
      "gand apparait 3 fois dans le corpus\n",
      "ninove apparait 3 fois dans le corpus\n",
      "doornick apparait 3 fois dans le corpus\n",
      "laeken apparait 2 fois dans le corpus\n",
      "europe apparait 2 fois dans le corpus\n",
      "flandres apparait 2 fois dans le corpus\n",
      "rue léopold apparait 2 fois dans le corpus\n",
      "somme apparait 2 fois dans le corpus\n",
      "rue royale apparait 2 fois dans le corpus\n",
      "treurenberg rue epingles apparait 2 fois dans le corpus\n",
      "rue schaerbeék apparait 2 fois dans le corpus\n",
      "bruxelles bruxelles apparait 2 fois dans le corpus\n",
      "duquesnoy apparait 2 fois dans le corpus\n",
      "rue loxum apparait 2 fois dans le corpus\n",
      "bâtimens apparait 1 fois dans le corpus\n",
      "rue louvain apparait 1 fois dans le corpus\n",
      "commission cambre aftendu apparait 1 fois dans le corpus\n",
      "loge rez apparait 1 fois dans le corpus\n",
      "collège dos apparait 1 fois dans le corpus\n",
      "echevins bruxelles apparait 1 fois dans le corpus\n",
      "déterminiez apparait 1 fois dans le corpus\n",
      "salon bruxelles apparait 1 fois dans le corpus\n",
      "amendemens apparait 1 fois dans le corpus\n",
      "rappelât apparait 1 fois dans le corpus\n",
      "belgique communale apparait 1 fois dans le corpus\n",
      "ligne belgique apparait 1 fois dans le corpus\n",
      "jôorûal apparait 1 fois dans le corpus\n",
      "paris belgique apparait 1 fois dans le corpus\n",
      "collège ranwet apparait 1 fois dans le corpus\n",
      "sténog apparait 1 fois dans le corpus\n",
      "théâtre gand apparait 1 fois dans le corpus\n",
      "bruxelles paris apparait 1 fois dans le corpus\n",
      "lyon apparait 1 fois dans le corpus\n",
      "coulât apparait 1 fois dans le corpus\n",
      "hospice aveugles thospice apparait 1 fois dans le corpus\n",
      "réserve blaes conseil apparait 1 fois dans le corpus\n",
      "vis vis mêmes apparait 1 fois dans le corpus\n",
      "front boulevard hôpital apparait 1 fois dans le corpus\n",
      "hainaut apparait 1 fois dans le corpus\n"
     ]
    }
   ],
   "source": [
    "# Trier et imprimer\n",
    "\n",
    "sorted_people = sorted(people.items(), key=lambda kv: kv[1], reverse=True)\n",
    "sorted_organisation = sorted(organisation.items(), key=lambda kv: kv[1], reverse=True)\n",
    "sorted_location = sorted(location.items(), key=lambda kv: kv[1], reverse=True)\n",
    "print(\"Personnes\")\n",
    "for person, freq in sorted_people[:50]:\n",
    "    print(f\"{person} apparait {freq} fois dans le corpus\")\n",
    "print(\"Organisations\")\n",
    "for org, freq in sorted_organisation[:50]:\n",
    "    print(f\"{org} apparait {freq} fois dans le corpus\")\n",
    "print(\"Lieux\")\n",
    "for loc, freq in sorted_location[:50]:\n",
    "    print(f\"{loc} apparait {freq} fois dans le corpus\")"
   ]
  },
  {
   "cell_type": "code",
   "execution_count": null,
   "metadata": {},
   "outputs": [],
   "source": []
  }
 ],
 "metadata": {
  "kernelspec": {
   "display_name": "Python 3 (ipykernel)",
   "language": "python",
   "name": "python3"
  },
  "language_info": {
   "codemirror_mode": {
    "name": "ipython",
    "version": 3
   },
   "file_extension": ".py",
   "mimetype": "text/x-python",
   "name": "python",
   "nbconvert_exporter": "python",
   "pygments_lexer": "ipython3",
   "version": "3.9.7"
  }
 },
 "nbformat": 4,
 "nbformat_minor": 4
}
